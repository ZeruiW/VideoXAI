{
 "cells": [
  {
   "cell_type": "code",
   "execution_count": 30,
   "metadata": {},
   "outputs": [
    {
     "name": "stderr",
     "output_type": "stream",
     "text": [
      "2024-09-10 22:23:24,783 - INFO - Using device: cuda\n",
      "2024-09-10 22:23:26,195 - INFO - Model and feature extractor loaded successfully\n",
      "2024-09-10 22:23:26,197 - INFO - Processing video: archive/videos_val/zZr_mmwaeKc.mp4\n",
      "2024-09-10 22:23:26,201 - INFO - Extracted frame 1 at position: 0/300\n",
      "2024-09-10 22:23:26,204 - INFO - Extracted frame 2 at position: 37/300\n",
      "2024-09-10 22:23:26,206 - INFO - Extracted frame 3 at position: 74/300\n",
      "2024-09-10 22:23:26,209 - INFO - Extracted frame 4 at position: 111/300\n",
      "2024-09-10 22:23:26,211 - INFO - Extracted frame 5 at position: 148/300\n",
      "2024-09-10 22:23:26,214 - INFO - Extracted frame 6 at position: 185/300\n",
      "2024-09-10 22:23:26,216 - INFO - Extracted frame 7 at position: 222/300\n",
      "2024-09-10 22:23:26,219 - INFO - Extracted frame 8 at position: 259/300\n",
      "2024-09-10 22:23:26,219 - INFO - Extracted 8 frames from archive/videos_val/zZr_mmwaeKc.mp4\n"
     ]
    },
    {
     "data": {
      "application/vnd.jupyter.widget-view+json": {
       "model_id": "dfc589513eae48f6bd923c5c508e3223",
       "version_major": 2,
       "version_minor": 0
      },
      "text/plain": [
       "  0%|          | 0/1000 [00:00<?, ?it/s]"
      ]
     },
     "metadata": {},
     "output_type": "display_data"
    },
    {
     "name": "stderr",
     "output_type": "stream",
     "text": [
      "2024-09-10 22:23:36,504 - INFO - Processed frame 1 for archive/videos_val/zZr_mmwaeKc.mp4\n"
     ]
    },
    {
     "data": {
      "application/vnd.jupyter.widget-view+json": {
       "model_id": "cbe06e16e523460a8740e86d1075d13c",
       "version_major": 2,
       "version_minor": 0
      },
      "text/plain": [
       "  0%|          | 0/1000 [00:00<?, ?it/s]"
      ]
     },
     "metadata": {},
     "output_type": "display_data"
    },
    {
     "name": "stderr",
     "output_type": "stream",
     "text": [
      "2024-09-10 22:23:46,376 - INFO - Processed frame 2 for archive/videos_val/zZr_mmwaeKc.mp4\n"
     ]
    },
    {
     "data": {
      "application/vnd.jupyter.widget-view+json": {
       "model_id": "0f378352d02d4c1cba283807f50a86f1",
       "version_major": 2,
       "version_minor": 0
      },
      "text/plain": [
       "  0%|          | 0/1000 [00:00<?, ?it/s]"
      ]
     },
     "metadata": {},
     "output_type": "display_data"
    },
    {
     "name": "stderr",
     "output_type": "stream",
     "text": [
      "2024-09-10 22:23:56,741 - INFO - Processed frame 3 for archive/videos_val/zZr_mmwaeKc.mp4\n"
     ]
    },
    {
     "data": {
      "application/vnd.jupyter.widget-view+json": {
       "model_id": "963b9f3b74b24eaaabefb49ea0cd0e5c",
       "version_major": 2,
       "version_minor": 0
      },
      "text/plain": [
       "  0%|          | 0/1000 [00:00<?, ?it/s]"
      ]
     },
     "metadata": {},
     "output_type": "display_data"
    },
    {
     "name": "stderr",
     "output_type": "stream",
     "text": [
      "2024-09-10 22:24:06,933 - INFO - Processed frame 4 for archive/videos_val/zZr_mmwaeKc.mp4\n"
     ]
    },
    {
     "data": {
      "application/vnd.jupyter.widget-view+json": {
       "model_id": "35c82b00f05b4c04b27ff07cb3c131f4",
       "version_major": 2,
       "version_minor": 0
      },
      "text/plain": [
       "  0%|          | 0/1000 [00:00<?, ?it/s]"
      ]
     },
     "metadata": {},
     "output_type": "display_data"
    },
    {
     "name": "stderr",
     "output_type": "stream",
     "text": [
      "2024-09-10 22:24:17,613 - INFO - Processed frame 5 for archive/videos_val/zZr_mmwaeKc.mp4\n"
     ]
    },
    {
     "data": {
      "application/vnd.jupyter.widget-view+json": {
       "model_id": "65689817562a4b6c99c29a6b98ea5aec",
       "version_major": 2,
       "version_minor": 0
      },
      "text/plain": [
       "  0%|          | 0/1000 [00:00<?, ?it/s]"
      ]
     },
     "metadata": {},
     "output_type": "display_data"
    },
    {
     "name": "stderr",
     "output_type": "stream",
     "text": [
      "2024-09-10 22:24:27,961 - INFO - Processed frame 6 for archive/videos_val/zZr_mmwaeKc.mp4\n"
     ]
    },
    {
     "data": {
      "application/vnd.jupyter.widget-view+json": {
       "model_id": "f38af5f29f6240a0856ee9215e89d494",
       "version_major": 2,
       "version_minor": 0
      },
      "text/plain": [
       "  0%|          | 0/1000 [00:00<?, ?it/s]"
      ]
     },
     "metadata": {},
     "output_type": "display_data"
    },
    {
     "name": "stderr",
     "output_type": "stream",
     "text": [
      "2024-09-10 22:24:38,470 - INFO - Processed frame 7 for archive/videos_val/zZr_mmwaeKc.mp4\n"
     ]
    },
    {
     "data": {
      "application/vnd.jupyter.widget-view+json": {
       "model_id": "01bab2394c774a2db5450c9280f899a4",
       "version_major": 2,
       "version_minor": 0
      },
      "text/plain": [
       "  0%|          | 0/1000 [00:00<?, ?it/s]"
      ]
     },
     "metadata": {},
     "output_type": "display_data"
    },
    {
     "name": "stderr",
     "output_type": "stream",
     "text": [
      "2024-09-10 22:24:48,989 - INFO - Processed frame 8 for archive/videos_val/zZr_mmwaeKc.mp4\n",
      "2024-09-10 22:24:57,835 - INFO - Results saved to ResultsLIMEz/zZr_mmwaeKc\n",
      "2024-09-10 22:24:57,835 - INFO - Processed zZr_mmwaeKc.mp4\n",
      "2024-09-10 22:24:57,836 - INFO - Top predictions: [188, 188, 188, 188, 188, 188, 188, 188]\n"
     ]
    }
   ],
   "source": [
    "import os\n",
    "import av\n",
    "import torch\n",
    "from transformers import ViTForImageClassification, ViTFeatureExtractor, ViTConfig\n",
    "from PIL import Image\n",
    "import numpy as np\n",
    "from tqdm import tqdm\n",
    "from lime import lime_image\n",
    "import matplotlib.pyplot as plt\n",
    "import json\n",
    "import logging\n",
    "from torch.cuda.amp import autocast\n",
    "\n",
    "# 设置日志\n",
    "logging.basicConfig(level=logging.INFO, format='%(asctime)s - %(levelname)s - %(message)s')\n",
    "\n",
    "# Configuration\n",
    "config = {\n",
    "    \"model_config\": \"google/vit-base-patch16-224\",\n",
    "    \"model_path\": \"finetuned_vit_model_20.pth\",\n",
    "    \"feature_extractor_name\": \"google/vit-base-patch16-224\",\n",
    "    \"results_folder\": \"ResultsLIMEz\",\n",
    "    \"num_frames\": 8,  # 修改这里，使用 num_frames 替代 num_segments\n",
    "    \"lime_num_samples\": 1000,\n",
    "    \"video_directory\": \"archive/videos_val\",\n",
    "    \"num_labels\": 400  \n",
    "}\n",
    "\n",
    "# 确保结果目录存在\n",
    "os.makedirs(config[\"results_folder\"], exist_ok=True)\n",
    "\n",
    "# 设置设备\n",
    "device = torch.device(\"cuda\" if torch.cuda.is_available() else \"cpu\")\n",
    "logging.info(f\"Using device: {device}\")\n",
    "\n",
    "# 加载模型和特征提取器\n",
    "try:\n",
    "    model_config = ViTConfig.from_pretrained(config[\"model_config\"], num_labels=config[\"num_labels\"])\n",
    "    model = ViTForImageClassification(model_config)\n",
    "    \n",
    "    # 加载预训练权重\n",
    "    state_dict = torch.load(config[\"model_path\"], map_location=device)\n",
    "    \n",
    "    # 检查并调整权重字典中的键\n",
    "    if \"classifier.weight\" in state_dict and state_dict[\"classifier.weight\"].shape[0] != config[\"num_labels\"]:\n",
    "        logging.warning(f\"Adjusting classifier weights from {state_dict['classifier.weight'].shape} to {config['num_labels']} classes\")\n",
    "        state_dict[\"classifier.weight\"] = state_dict[\"classifier.weight\"][:config[\"num_labels\"], :]\n",
    "        state_dict[\"classifier.bias\"] = state_dict[\"classifier.bias\"][:config[\"num_labels\"]]\n",
    "    \n",
    "    # 加载调整后的权重\n",
    "    model.load_state_dict(state_dict)\n",
    "    \n",
    "    model.to(device)\n",
    "    model.eval()\n",
    "    feature_extractor = ViTFeatureExtractor.from_pretrained(config[\"feature_extractor_name\"])\n",
    "    logging.info(\"Model and feature extractor loaded successfully\")\n",
    "except Exception as e:\n",
    "    logging.error(f\"Error loading model or feature extractor: {str(e)}\")\n",
    "    raise\n",
    "\n",
    "def extract_frames(video_path, num_frames):\n",
    "    frames = []\n",
    "    try:\n",
    "        with av.open(video_path) as container:\n",
    "            stream = container.streams.video[0]\n",
    "            total_frames = stream.frames\n",
    "            interval = total_frames // num_frames\n",
    "\n",
    "            for i in range(num_frames):\n",
    "                target_frame = i * interval\n",
    "                container.seek(target_frame, stream=stream)\n",
    "                for frame in container.decode(video=0):\n",
    "                    pil_image = frame.to_image()\n",
    "                    frames.append(pil_image)\n",
    "                    logging.info(f\"Extracted frame {i+1} at position: {target_frame}/{total_frames}\")\n",
    "                    break\n",
    "\n",
    "        logging.info(f\"Extracted {len(frames)} frames from {video_path}\")\n",
    "    except Exception as e:\n",
    "        logging.error(f\"Error extracting frames from {video_path}: {e}\")\n",
    "    return frames\n",
    "\n",
    "def process_and_explain(video_path, model, feature_extractor):\n",
    "    frames = extract_frames(video_path, config[\"num_frames\"])\n",
    "    if not frames:\n",
    "        logging.error(f\"No frames extracted from {video_path}\")\n",
    "        return None, None\n",
    "\n",
    "    results = []\n",
    "    for i, frame in enumerate(frames):\n",
    "        try:\n",
    "            inputs = feature_extractor(images=frame, return_tensors=\"pt\").to(device)\n",
    "            with autocast():\n",
    "                with torch.no_grad():\n",
    "                    outputs = model(**inputs)\n",
    "            preds = torch.nn.functional.softmax(outputs.logits, dim=-1)\n",
    "            top_pred = preds.argmax().item()\n",
    "\n",
    "            def batch_predict(images):\n",
    "                batch_inputs = feature_extractor(images=[Image.fromarray(img.astype('uint8')) for img in images], return_tensors=\"pt\").to(device)\n",
    "                with autocast():\n",
    "                    with torch.no_grad():\n",
    "                        batch_outputs = model(**batch_inputs)\n",
    "                return torch.nn.functional.softmax(batch_outputs.logits, dim=-1).cpu().numpy()\n",
    "\n",
    "            explainer = lime_image.LimeImageExplainer()\n",
    "            explanation = explainer.explain_instance(np.array(frame), \n",
    "                                                     batch_predict, \n",
    "                                                     top_labels=5, \n",
    "                                                     hide_color=0, \n",
    "                                                     num_samples=config[\"lime_num_samples\"])\n",
    "            \n",
    "            saliency_map = explanation.get_image_and_mask(top_pred, positive_only=True, num_features=10, hide_rest=False)[1]\n",
    "            saliency_map = (saliency_map - saliency_map.min()) / (saliency_map.max() - saliency_map.min())\n",
    "\n",
    "            results.append({\n",
    "                \"frame_index\": i,\n",
    "                \"top_prediction\": top_pred,\n",
    "                \"prediction_score\": preds[0, top_pred].item(),\n",
    "                \"saliency_map\": saliency_map.tolist()\n",
    "            })\n",
    "\n",
    "            logging.info(f\"Processed frame {i+1} for {video_path}\")\n",
    "        except Exception as e:\n",
    "            logging.error(f\"Error processing frame {i+1} of {video_path}: {e}\")\n",
    "\n",
    "    return results, frames\n",
    "\n",
    "def save_results(video_path, frames, results):\n",
    "    video_name = os.path.splitext(os.path.basename(video_path))[0]\n",
    "    video_result_dir = os.path.join(config[\"results_folder\"], video_name)\n",
    "    os.makedirs(video_result_dir, exist_ok=True)\n",
    "\n",
    "    plt.figure(figsize=(20, 5 * len(frames)))\n",
    "\n",
    "    for i, (frame, result) in enumerate(zip(frames, results)):\n",
    "        frame_array = np.array(frame)\n",
    "        saliency_map = np.array(result['saliency_map'])\n",
    "\n",
    "        # Save and plot original frame\n",
    "        plt.subplot(len(frames), 3, i*3 + 1)\n",
    "        plt.imshow(frame_array)\n",
    "        plt.title(f\"Frame {i+1}\")\n",
    "        plt.axis('off')\n",
    "        plt.imsave(os.path.join(video_result_dir, f\"original_frame_{i}.png\"), frame_array)\n",
    "\n",
    "        # Save and plot saliency map overlay\n",
    "        plt.subplot(len(frames), 3, i*3 + 2)\n",
    "        plt.imshow(frame_array)\n",
    "        plt.imshow(saliency_map, cmap='jet', alpha=0.5)\n",
    "        plt.title(f\"Overlay {i+1}\")\n",
    "        plt.axis('off')\n",
    "        overlay = plt.gcf()\n",
    "        overlay.savefig(os.path.join(video_result_dir, f\"saliency_overlay_{i}.png\"))\n",
    "\n",
    "        # Save and plot saliency map\n",
    "        plt.subplot(len(frames), 3, i*3 + 3)\n",
    "        plt.imshow(saliency_map, cmap='jet')\n",
    "        plt.title(f\"Saliency {i+1}\")\n",
    "        plt.axis('off')\n",
    "        plt.imsave(os.path.join(video_result_dir, f\"saliency_map_{i}.png\"), saliency_map, cmap='jet')\n",
    "\n",
    "    # Save overall visualization\n",
    "    plt.tight_layout()\n",
    "    plt.savefig(os.path.join(video_result_dir, \"all_frames_visualization.png\"))\n",
    "    plt.close()\n",
    "\n",
    "    # Save all results as JSON\n",
    "    with open(os.path.join(video_result_dir, \"saliency_data.json\"), 'w') as f:\n",
    "        json.dump(results, f, indent=4)\n",
    "\n",
    "    logging.info(f\"Results saved to {video_result_dir}\")\n",
    "\n",
    "def process_single_video(video_filename):\n",
    "    video_path = os.path.join(config[\"video_directory\"], video_filename)\n",
    "    logging.info(f\"Processing video: {video_path}\")\n",
    "    \n",
    "    results, frames = process_and_explain(video_path, model, feature_extractor)\n",
    "    \n",
    "    if results and frames:\n",
    "        save_results(video_path, frames, results)\n",
    "        logging.info(f\"Processed {video_filename}\")\n",
    "        logging.info(f\"Top predictions: {[result['top_prediction'] for result in results]}\")\n",
    "    else:\n",
    "        logging.warning(f\"Failed to process {video_filename}\")\n",
    "\n",
    "# 在notebook中使用时，可以直接调用这个函数\n",
    "process_single_video(\"zZr_mmwaeKc.mp4\")"
   ]
  }
 ],
 "metadata": {
  "kernelspec": {
   "display_name": "mmxai",
   "language": "python",
   "name": "python3"
  },
  "language_info": {
   "codemirror_mode": {
    "name": "ipython",
    "version": 3
   },
   "file_extension": ".py",
   "mimetype": "text/x-python",
   "name": "python",
   "nbconvert_exporter": "python",
   "pygments_lexer": "ipython3",
   "version": "3.12.1"
  }
 },
 "nbformat": 4,
 "nbformat_minor": 2
}
